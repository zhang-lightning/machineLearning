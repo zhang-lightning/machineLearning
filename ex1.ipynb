{
 "cells": [
  {
   "cell_type": "markdown",
   "id": "468a9893-8961-4695-b93c-e2d94eea9153",
   "metadata": {},
   "source": [
    "# 小作业1\n",
    "\n",
    "地球与行星科学学院 张泽珅 202448510111062\n",
    "\n",
    "---"
   ]
  },
  {
   "cell_type": "code",
   "execution_count": 1,
   "id": "a95fa806",
   "metadata": {},
   "outputs": [],
   "source": [
    "import numpy as np"
   ]
  },
  {
   "cell_type": "markdown",
   "id": "f49bffc9-3f84-4144-90ff-af2d4e27ef37",
   "metadata": {},
   "source": [
    "1. 随意构造一6 × 4的数值矩阵𝑨 ，对其进行奇异值分解（可以手算，也以可采用任意计算软件），给出其左奇异矩阵𝑼 、右奇异矩阵𝑽以及对角矩阵𝚺；分别取 前1个、前2个奇异值来近似矩阵𝑨 。\n",
    "\n",
    "解：定义一 $6 \\times 4$ 的随机矩阵："
   ]
  },
  {
   "cell_type": "code",
   "execution_count": 2,
   "id": "ff96b3dd",
   "metadata": {},
   "outputs": [
    {
     "name": "stdout",
     "output_type": "stream",
     "text": [
      "[[0.90681776 0.20945646 0.71819843 0.00483869]\n",
      " [0.25942614 0.79778852 0.74391622 0.08949148]\n",
      " [0.75158884 0.79625145 0.4661401  0.80333818]\n",
      " [0.31918273 0.16031922 0.50846194 0.05085235]\n",
      " [0.27129902 0.93599257 0.05038461 0.09884191]\n",
      " [0.3993221  0.63065549 0.9269964  0.52162165]]\n"
     ]
    }
   ],
   "source": [
    "A = np.random.rand(6, 4)\n",
    "print(A)"
   ]
  },
  {
   "cell_type": "markdown",
   "id": "5266197d",
   "metadata": {},
   "source": [
    "对矩阵A做奇异值分解："
   ]
  },
  {
   "cell_type": "code",
   "execution_count": 3,
   "id": "b02efafc",
   "metadata": {},
   "outputs": [],
   "source": [
    "U, Sigma, V = np.linalg.svd(A)\n",
    "Sigma_matrix = np.diag(Sigma)"
   ]
  },
  {
   "cell_type": "markdown",
   "id": "4b1387d1",
   "metadata": {},
   "source": [
    "分别取第一个和前两个奇异值元素近似矩阵A，得到A_approx_1和A_approx_2:"
   ]
  },
  {
   "cell_type": "code",
   "execution_count": 4,
   "id": "e61af4d6",
   "metadata": {
    "scrolled": true
   },
   "outputs": [
    {
     "name": "stdout",
     "output_type": "stream",
     "text": [
      "[[0.47231479 0.57119896 0.55644956 0.30008725]\n",
      " [0.50715017 0.6133275  0.59749027 0.32222006]\n",
      " [0.6520866  0.78860793 0.76824463 0.41430604]\n",
      " [0.26900583 0.32532509 0.3169246  0.17091402]\n",
      " [0.35856376 0.43363293 0.42243574 0.22781504]\n",
      " [0.60776082 0.73500207 0.71602298 0.38614347]]\n",
      "[[0.69263592 0.1565938  0.86857838 0.16371743]\n",
      " [0.472041   0.6793967  0.54775113 0.3439512 ]\n",
      " [0.56788027 0.94706924 0.64894958 0.46642633]\n",
      " [0.37091201 0.13355579 0.46129503 0.10783824]\n",
      " [0.14506125 0.83540664 0.11996686 0.3599644 ]\n",
      " [0.6370411  0.67990179 0.75750434 0.36802016]]\n"
     ]
    }
   ],
   "source": [
    "A_approx_1 = U[:, :1] @ Sigma_matrix[:1, :1] @ V[:1, :]\n",
    "A_approx_2 = U[:, :2] @ Sigma_matrix[:2, :2] @ V[:2, :]\n",
    "\n",
    "print(A_approx_1)\n",
    "print(A_approx_2)"
   ]
  },
  {
   "cell_type": "markdown",
   "id": "5e00d57c",
   "metadata": {},
   "source": [
    "2. 假设某疾病的感染概率为0.02%，现在有针对该疾病的检测试剂。经过统计，对于没有患病的群体进行试剂测试，99.2%的测试结果为阴性；对于患病的群体进行测试，99.5%的人检测结果为阳性。现随机选一个人，他的检测结果为阳性，那这个人感染了该疾病的概率是多少？如果该疾病的感染概率为2%，检测结果为阳性的感染概率是多少？如果该疾病的感染概率为20%，检测结果为阳性的感染概率是多少？请谈谈对不同感染概率计算结果的看法。\n",
    "\n",
    "解：设感染疾病为事件A，检测为阳性为事件B，则由题设有\n",
    "$$\n",
    "P(A)=0.02\\%,\\\\\n",
    "P(B|A)=99.5\\%\\\\\n",
    "P(\\neg B|\\neg A)=99.2\\%\n",
    "$$"
   ]
  }
 ],
 "metadata": {
  "kernelspec": {
   "display_name": "Python 3 (ipykernel)",
   "language": "python",
   "name": "python3"
  },
  "language_info": {
   "codemirror_mode": {
    "name": "ipython",
    "version": 3
   },
   "file_extension": ".py",
   "mimetype": "text/x-python",
   "name": "python",
   "nbconvert_exporter": "python",
   "pygments_lexer": "ipython3",
   "version": "3.13.0"
  }
 },
 "nbformat": 4,
 "nbformat_minor": 5
}
